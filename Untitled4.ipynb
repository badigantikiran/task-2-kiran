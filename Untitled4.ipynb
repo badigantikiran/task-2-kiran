{
  "metadata": {
    "kernelspec": {
      "name": "python",
      "display_name": "Python (Pyodide)",
      "language": "python"
    },
    "language_info": {
      "codemirror_mode": {
        "name": "python",
        "version": 3
      },
      "file_extension": ".py",
      "mimetype": "text/x-python",
      "name": "python",
      "nbconvert_exporter": "python",
      "pygments_lexer": "ipython3",
      "version": "3.8"
    }
  },
  "nbformat_minor": 4,
  "nbformat": 4,
  "cells": [
    {
      "cell_type": "code",
      "source": "import numpy as np \nimport pandas as pd \nimport matplotlib.pyplot as plt\nimport seaborn as sns\nimport plotly.express as px\nfrom sklearn.model_selection import train_test_split\nfrom sklearn.linear_model import LinearRegression\nfrom sklearn.metrics import mean_squared_error, r2_score\nimport warnings\nwarnings.filterwarnings(\"ignore\")",
      "metadata": {
        "trusted": true
      },
      "outputs": [],
      "execution_count": null
    },
    {
      "cell_type": "code",
      "source": "df = pd.read_csv('/kaggle/input/car-price-predictionused-cars/car data.csv')",
      "metadata": {
        "trusted": true
      },
      "outputs": [],
      "execution_count": null
    },
    {
      "cell_type": "code",
      "source": "print(\" First few rows of the dataset:\")\ndf.head()",
      "metadata": {
        "trusted": true
      },
      "outputs": [],
      "execution_count": null
    },
    {
      "cell_type": "code",
      "source": "Car_Name\tYear\tSelling_Price\tPresent_Price\tDriven_kms\tFuel_Type\tSelling_type\tTransmission\tOwner\n0\tritz\t2014\t3.35\t5.59\t27000\tPetrol\tDealer\tManual\t0\n1\tsx4\t2013\t4.75\t9.54\t43000\tDiesel\tDealer\tManual\t0\n2\tciaz\t2017\t7.25\t9.85\t6900\tPetrol\tDealer\tManual\t0\n3\twagon r\t2011\t2.85\t4.15\t5200\tPetrol\tDealer\tManual\t0\n4\tswift\t2014\t4.60\t6.87\t42450\tDiesel\tDealer\tManual\t0",
      "metadata": {
        "trusted": true
      },
      "outputs": [],
      "execution_count": null
    },
    {
      "cell_type": "code",
      "source": "df.columns",
      "metadata": {
        "trusted": true
      },
      "outputs": [],
      "execution_count": null
    },
    {
      "cell_type": "code",
      "source": "Index(['Car_Name', 'Year', 'Selling_Price', 'Present_Price', 'Driven_kms',\n       'Fuel_Type', 'Selling_type', 'Transmission', 'Owner'],\n      dtype='object')",
      "metadata": {
        "trusted": true
      },
      "outputs": [],
      "execution_count": null
    },
    {
      "cell_type": "code",
      "source": "df.shape",
      "metadata": {
        "trusted": true
      },
      "outputs": [],
      "execution_count": null
    },
    {
      "cell_type": "code",
      "source": "(301, 9)",
      "metadata": {
        "trusted": true
      },
      "outputs": [],
      "execution_count": null
    },
    {
      "cell_type": "code",
      "source": "df.describe().style.format(precision=2)",
      "metadata": {
        "trusted": true
      },
      "outputs": [],
      "execution_count": null
    },
    {
      "cell_type": "code",
      "source": "\tYear\tSelling_Price\tPresent_Price\tDriven_kms\tOwner\ncount\t301.00\t301.00\t301.00\t301.00\t301.00\nmean\t2013.63\t4.66\t7.63\t36947.21\t0.04\nstd\t2.89\t5.08\t8.64\t38886.88\t0.25\nmin\t2003.00\t0.10\t0.32\t500.00\t0.00\n25%\t2012.00\t0.90\t1.20\t15000.00\t0.00\n50%\t2014.00\t3.60\t6.40\t32000.00\t0.00\n75%\t2016.00\t6.00\t9.90\t48767.00\t0.00\nmax\t2018.00\t35.00\t92.60\t500000.00\t3.00",
      "metadata": {
        "trusted": true
      },
      "outputs": [],
      "execution_count": null
    },
    {
      "cell_type": "code",
      "source": "df.info()",
      "metadata": {
        "trusted": true
      },
      "outputs": [],
      "execution_count": null
    },
    {
      "cell_type": "code",
      "source": "<class 'pandas.core.frame.DataFrame'>\nRangeIndex: 301 entries, 0 to 300\nData columns (total 9 columns):\n #   Column         Non-Null Count  Dtype  \n---  ------         --------------  -----  \n 0   Car_Name       301 non-null    object \n 1   Year           301 non-null    int64  \n 2   Selling_Price  301 non-null    float64\n 3   Present_Price  301 non-null    float64\n 4   Driven_kms     301 non-null    int64  \n 5   Fuel_Type      301 non-null    object \n 6   Selling_type   301 non-null    object \n 7   Transmission   301 non-null    object \n 8   Owner          301 non-null    int64  \ndtypes: float64(2), int64(3), object(4)\nmemory usage: 21.3+ KB",
      "metadata": {
        "trusted": true
      },
      "outputs": [],
      "execution_count": null
    },
    {
      "cell_type": "code",
      "source": "# Check Missing Values\nprint('Missing Values:')\ndf.isnull().sum()",
      "metadata": {
        "trusted": true
      },
      "outputs": [],
      "execution_count": null
    },
    {
      "cell_type": "code",
      "source": "Missing Values:\nCar_Name         0\nYear             0\nSelling_Price    0\nPresent_Price    0\nDriven_kms       0\nFuel_Type        0\nSelling_type     0\nTransmission     0\nOwner            0\ndtype: int64",
      "metadata": {
        "trusted": true
      },
      "outputs": [],
      "execution_count": null
    },
    {
      "cell_type": "code",
      "source": "# Data types of columns\nprint(\" Data types of columns:\")\nprint(df.dtypes)",
      "metadata": {
        "trusted": true
      },
      "outputs": [],
      "execution_count": null
    },
    {
      "cell_type": "code",
      "source": " Data types of columns:\nCar_Name          object\nYear               int64\nSelling_Price    float64\nPresent_Price    float64\nDriven_kms         int64\nFuel_Type         object\nSelling_type      object\nTransmission      object\nOwner              int64\ndtype: object",
      "metadata": {
        "trusted": true
      },
      "outputs": [],
      "execution_count": null
    },
    {
      "cell_type": "code",
      "source": "# check for duplicate values\nprint('Duplicate Values:')\ndf.duplicated().sum()",
      "metadata": {
        "trusted": true
      },
      "outputs": [],
      "execution_count": null
    },
    {
      "cell_type": "code",
      "source": "2",
      "metadata": {
        "trusted": true
      },
      "outputs": [],
      "execution_count": null
    },
    {
      "cell_type": "code",
      "source": "# drop duplicate values\ndf = df.drop_duplicates()\ndf.duplicated().sum()\n",
      "metadata": {
        "trusted": true
      },
      "outputs": [],
      "execution_count": null
    },
    {
      "cell_type": "code",
      "source": "X = df.drop(['Car_Name','Selling_Price'],axis=1)\nY = df['Selling_Price']",
      "metadata": {
        "trusted": true
      },
      "outputs": [],
      "execution_count": null
    },
    {
      "cell_type": "code",
      "source": "X",
      "metadata": {
        "trusted": true
      },
      "outputs": [],
      "execution_count": null
    },
    {
      "cell_type": "code",
      "source": "\tYear\tPresent_Price\tDriven_kms\tFuel_Type\tSelling_type\tTransmission\tOwner\n0\t2014\t5.59\t27000\t0\t0\t0\t0\n1\t2013\t9.54\t43000\t1\t0\t0\t0\n2\t2017\t9.85\t6900\t0\t0\t0\t0\n3\t2011\t4.15\t5200\t0\t0\t0\t0\n4\t2014\t6.87\t42450\t1\t0\t0\t0\n...\t...\t...\t...\t...\t...\t...\t...\n296\t2016\t11.60\t33988\t1\t0\t0\t0\n297\t2015\t5.90\t60000\t0\t0\t0\t0\n298\t2009\t11.00\t87934\t0\t0\t0\t0\n299\t2017\t12.50\t9000\t1\t0\t0\t0\n300\t2016\t5.90\t5464\t0\t0\t0\t0",
      "metadata": {
        "trusted": true
      },
      "outputs": [],
      "execution_count": null
    },
    {
      "cell_type": "code",
      "source": "Y",
      "metadata": {
        "trusted": true
      },
      "outputs": [],
      "execution_count": null
    },
    {
      "cell_type": "code",
      "source": "0       3.35\n1       4.75\n2       7.25\n3       2.85\n4       4.60\n       ...  \n296     9.50\n297     4.00\n298     3.35\n299    11.50\n300     5.30\nName: Selling_Price, Length: 299, dtype: float64",
      "metadata": {
        "trusted": true
      },
      "outputs": [],
      "execution_count": null
    },
    {
      "cell_type": "code",
      "source": "# Make predictions\nnew_car = [[2022, 20000, 0, 1, 1, 0, 0]]  # Example new car data\npredicted_price = model.predict(new_car)\nprint('Predicted Selling Price:', predicted_price[0])\nPredicted Selling Price: 8829.49338250246",
      "metadata": {
        "trusted": true
      },
      "outputs": [],
      "execution_count": null
    }
  ]
}